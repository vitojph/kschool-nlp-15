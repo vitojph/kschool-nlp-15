{
 "cells": [
  {
   "cell_type": "markdown",
   "metadata": {},
   "source": [
    "# `textblob`: otro módulo para tareas de PLN (`NLTK` + `pattern`)\n",
    "\n",
    "[textblob](http://textblob.readthedocs.org/) es una librería de procesamiento del texto para Python que permite realizar tareas de Procesamiento del Lenguaje Natural como análisis morfológico, extracción de entidades, análisis de opinión, traducción automática, etc. "
   ]
  },
  {
   "cell_type": "markdown",
   "metadata": {},
   "source": [
    "Está construida sobre otras dos librerías muy famosas de Python: [NLTK](http://www.nltk.org/) y [pattern](http://www.clips.ua.ac.be/pages/pattern-en). La principal ventaja de [textblob](http://textblob.readthedocs.org/) es que permite combinar el uso de las dos herramientas anteriores en un interfaz más simple.\n",
    "\n",
    "Vamos a apoyarnos en [este tutorial](http://textblob.readthedocs.org/en/dev/quickstart.html) para aprender a utilizar algunas de sus funcionalidades más llamativas. \n",
    "\n",
    "Lo primero es importar el objeto `TextBlob` que nos permite acceder a todas las herramentas que incluye."
   ]
  },
  {
   "cell_type": "code",
   "execution_count": null,
   "metadata": {},
   "outputs": [],
   "source": [
    "from textblob import TextBlob"
   ]
  },
  {
   "cell_type": "markdown",
   "metadata": {},
   "source": [
    "Vamos a crear nuestro primer ejemplo de *textblob* a través del objeto `TextBlob`. Piensa en estos *textblobs* como una especie de cadenas de texto de Python, analaizadas y enriquecidas con algunas características extra. "
   ]
  },
  {
   "cell_type": "code",
   "execution_count": null,
   "metadata": {},
   "outputs": [],
   "source": [
    "texto = \"\"\"In new lawsuits brought against the ride-sharing companies Uber and Lyft, the top prosecutors in Los Angeles \n",
    "and San Francisco counties make an important point about the lightly regulated sharing economy. The consumers who \n",
    "participate deserve a very clear picture of the risks they're taking\"\"\"\n",
    "t = TextBlob(texto)"
   ]
  },
  {
   "cell_type": "code",
   "execution_count": null,
   "metadata": {},
   "outputs": [],
   "source": [
    "print(t.sentences)"
   ]
  },
  {
   "cell_type": "code",
   "execution_count": null,
   "metadata": {},
   "outputs": [],
   "source": [
    "print(\"Tenemos\"'\", len(t.sentences), \"oraciones.\\n\")\n",
    "\n",
    "for sentence in t.sentences:\n",
    "    print(sentence)\n",
    "    print('-' * 75)"
   ]
  },
  {
   "cell_type": "markdown",
   "metadata": {},
   "source": [
    "## Procesando oraciones, palabras y entidades\n",
    "\n",
    "Podemos segmentar en oraciones y en palabras nuestra texto de ejemplo simplemente accediendo a las propiedades `.sentences` y `.words`. Imprimimos por pantalla: "
   ]
  },
  {
   "cell_type": "code",
   "execution_count": null,
   "metadata": {},
   "outputs": [],
   "source": [
    "# imprimimos las oraciones\n",
    "for sentence in t.sentences:\n",
    "    print(sentence)\n",
    "    print(\"-\" * 75)\n",
    "    \n",
    "# y las palabras    \n",
    "print(t.words)\n",
    "print(texto.split())"
   ]
  },
  {
   "cell_type": "markdown",
   "metadata": {},
   "source": [
    "La propiedad `.noun_phrases` nos permite acceder a la lista de entidades (en realidad, son sintagmas nominales) incluídos en nuestro *textblob*. Así es como funciona."
   ]
  },
  {
   "cell_type": "code",
   "execution_count": null,
   "metadata": {},
   "outputs": [],
   "source": [
    "print(\"el texto de ejemplo contiene\", len(t.noun_phrases), \"entidades\")\n",
    "for element in t.noun_phrases:\n",
    "    print(\"-\", element)"
   ]
  },
  {
   "cell_type": "code",
   "execution_count": null,
   "metadata": {},
   "outputs": [],
   "source": [
    "# jugando con lemas, singulares y plurales \n",
    "for word in t.words:\n",
    "    if word.endswith(\"s\"):\n",
    "        print(word.lemmatize(), word, word.singularize())\n",
    "    else:\n",
    "        print(word.lemmatize(), word, word.pluralize())"
   ]
  },
  {
   "cell_type": "code",
   "execution_count": null,
   "metadata": {},
   "outputs": [],
   "source": [
    "# ¿cómo podemos hacer la lematización más inteligente?\n",
    "for item in t.tags:\n",
    "    if item[1] == \"NN\":\n",
    "        print(item[0], \"-->\", item[0].pluralize())\n",
    "    elif item[1] == \"NNS\":\n",
    "        print(item[0], \"-->,\" item[0].singularize())\n",
    "    else:\n",
    "        print(item[0], item[0].lemmatize())"
   ]
  },
  {
   "cell_type": "markdown",
   "metadata": {},
   "source": [
    "## Análisis sintático\n",
    "\n",
    "Aunque podemos utilizar otros analizadores, por defecto el método `.parse()` invoca al analizador morfosintáctico del módulo  `pattern.en` que ya conoces."
   ]
  },
  {
   "cell_type": "code",
   "execution_count": null,
   "metadata": {},
   "outputs": [],
   "source": [
    "# análisis sintáctico\n",
    "print(t.parse())"
   ]
  },
  {
   "cell_type": "markdown",
   "metadata": {},
   "source": [
    "## Traducción automática\n",
    "\n",
    "\n",
    "A partir de cualquier texto procesado con `TextBlob`, podemos acceder a un traductor automático de bastante calidad con el método `.translate`. Fíjate en cómo lo usamos. Es obligatorio indicar la lengua de destinto. La lengua de origen, se puede predecir a partir del texto de entrada. "
   ]
  },
  {
   "cell_type": "code",
   "execution_count": null,
   "metadata": {},
   "outputs": [],
   "source": [
    "# de chino a inglés y español \n",
    "oracion_zh = \"中国探月工程 亦稱嫦娥工程，是中国启动的第一个探月工程，于2003年3月1日正式启动\"\n",
    "t_zh = TextBlob(oracion_zh)\n",
    "print(t_zh.translate(from_lang=\"zh-CN\", to=\"en\"))\n",
    "print(t_zh.translate(from_lang=\"zh-CN\", to=\"es\"))\n",
    "\n",
    "oracion_ru = \"В 1943 году была отправлена в США, где выступала в защиту британской «белой книги», после чего работала в Канаде и Индии.\"\n",
    "t_ru = TextBlob(oracion_ru)\n",
    "print(t_ru.translate(from_lang=\"ru\", to=\"en\"))\n",
    "print(t_ru.translate(from_lang=\"ru\", to=\"es\"))\n",
    "\n",
    "print(\"--------------\")\n",
    "\n",
    "t_es = TextBlob(\"La deuda pública ha marcado nuevos récords en España en el tercer trimestre\")\n",
    "print(t_es.translate(to=\"el\"))\n",
    "print(t_es.translate(to=\"ru\"))\n",
    "print(t_es.translate(to=\"eu\"))\n",
    "print(t_es.translate(to=\"fi\"))\n",
    "print(t_es.translate(to=\"fr\"))\n",
    "print(t_es.translate(to=\"nl\"))\n",
    "print(t_es.translate(to=\"gl\"))\n",
    "print(t_es.translate(to=\"ca\"))\n",
    "print(t_es.translate(to=\"zh\"))\n",
    "print(t_es.translate(to=\"la\"))\n",
    "print(t_es.translate(to=\"cs\"))\n",
    "\n",
    "# con el slang no funciona tan bien\n",
    "print(\"--------------\")\n",
    "t_ita = TextBlob(\"Sono andato a Milano e mi sono divertito un bordello.\")\n",
    "print(t_ita.translate(to=\"en\"))\n",
    "print(t_ita.translate(to=\"es\"))"
   ]
  },
  {
   "cell_type": "markdown",
   "metadata": {},
   "source": [
    "## WordNet\n",
    "\n",
    "`textblob`, más concretamente, cualquier objeto de la clase `Word`, nos permite acceder a la información de WordNet. "
   ]
  },
  {
   "cell_type": "code",
   "execution_count": null,
   "metadata": {},
   "outputs": [],
   "source": [
    "# WordNet\n",
    "from textblob import Word\n",
    "from textblob.wordnet import VERB\n",
    "\n",
    "# ¿cuántos synsets tiene \"car\"\n",
    "word = Word(\"car\")\n",
    "print(word.synsets)\n",
    "\n",
    "# dame los synsets de la palabra \"hack\" como verbo\n",
    "print(Word(\"hack\").get_synsets(pos=VERB))\n",
    "\n",
    "# imprime la lista de definiciones de \"car\"\n",
    "print(Word(\"car\").definitions)\n",
    "\n",
    "# recorre la jerarquía de hiperónimos\n",
    "for s in word.synsets:\n",
    "    print(s.hypernym_paths())"
   ]
  },
  {
   "cell_type": "markdown",
   "metadata": {},
   "source": [
    "## Análisis de opinion"
   ]
  },
  {
   "cell_type": "code",
   "execution_count": null,
   "metadata": {},
   "outputs": [],
   "source": [
    "# análisis de opinión\n",
    "opinion1 = TextBlob(\"This new restaurant is great. I had so much fun!! :-P\")\n",
    "print(opinion1.sentiment)\n",
    "\n",
    "opinion2 = TextBlob(\"Google News to close in Spain.\")\n",
    "print(opinion2.sentiment)\n",
    "\n",
    "# subjetividad 0:1\n",
    "# polaridad -1:1\n",
    "\n",
    "print(opinion1.sentiment.polarity)\n",
    "\n",
    "if opinion1.sentiment.subjectivity > 0.5:\n",
    "    print(\"Hey, esto es una opinion\")"
   ]
  },
  {
   "cell_type": "markdown",
   "metadata": {},
   "source": [
    "### Ejercicio 1\n",
    "\n",
    "Prueba a analizar distintas oraciones en inglés (combinando verbos que indican información subjetiva, palabras con distinta carga emocional, añadiendo emoticonos, etc.) para ver si eres capaz de entender el funcionamiento de este analizador de opiniones."
   ]
  },
  {
   "cell_type": "code",
   "execution_count": null,
   "metadata": {},
   "outputs": [],
   "source": [
    "# escribe tu código aquí\n"
   ]
  },
  {
   "cell_type": "markdown",
   "metadata": {},
   "source": [
    "`TextBlob` da acceso a [otro tipo de analizadores](https://textblob.readthedocs.io/en/dev/advanced_usage.html#sentiment-analyzers) de opinión, por ejemplo, un clasificador basado en *Naive Bayes*. Prueba qué tal funciona:"
   ]
  },
  {
   "cell_type": "code",
   "execution_count": null,
   "metadata": {},
   "outputs": [],
   "source": [
    "from textblob.sentiments import NaiveBayesAnalyzer\n",
    "\n",
    "# escribe tu código aquí\n",
    "blob = TextBlob(\"I hate football\", analyzer=NaiveBayesAnalyzer())\n",
    "print(blob.sentiment)"
   ]
  },
  {
   "cell_type": "markdown",
   "metadata": {},
   "source": [
    "## Otras curiosidades"
   ]
  },
  {
   "cell_type": "code",
   "execution_count": null,
   "metadata": {},
   "outputs": [],
   "source": [
    "#  corrección ortográfica\n",
    "b1 = TextBlob(\"I havv goood speling!\")\n",
    "print(b1.correct())\n",
    "\n",
    "b2 = TextBlob(\"Miy naem iz Jonh!\")\n",
    "print(b2.correct())\n",
    "\n",
    "b3 = TextBlob(\"Boyz dont cri\")\n",
    "print(b3.correct())\n",
    "\n",
    "b4 = TextBlob(\"psicological posesion achifmen comitment\")\n",
    "print(b4.correct())"
   ]
  },
  {
   "cell_type": "markdown",
   "metadata": {},
   "source": [
    "## Hasta el infinito, y más allá\n",
    "\n",
    "En este breve resumen solo consideramos las posibilidades que ofrece `TextBlob` por defecto. Pero si necesitas personalizar las herramientas, echa un vistazo a [la documentación avanzada](http://textblob.readthedocs.org/en/dev/advanced_usage.html#advanced). "
   ]
  }
 ],
 "metadata": {
  "kernelspec": {
   "display_name": "Python 3",
   "language": "python",
   "name": "python3"
  },
  "language_info": {
   "codemirror_mode": {
    "name": "ipython",
    "version": 3
   },
   "file_extension": ".py",
   "mimetype": "text/x-python",
   "name": "python",
   "nbconvert_exporter": "python",
   "pygments_lexer": "ipython3",
   "version": "3.6.7"
  }
 },
 "nbformat": 4,
 "nbformat_minor": 2
}
