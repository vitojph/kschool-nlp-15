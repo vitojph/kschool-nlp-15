{
 "cells": [
  {
   "cell_type": "markdown",
   "metadata": {},
   "source": [
    "# Superbowl 2017\n",
    "\n",
    "\n",
    "## tl;dr\n",
    "\n",
    "Vamos a analizar una colección de tweets en inglés publicados durante un partido de fútbol.\n",
    "\n",
    "\n",
    "## Contexto\n",
    "\n",
    "El pasado 5 de febrero se celebró la [51ª edición de la Superbowl](https://en.wikipedia.org/wiki/Super_Bowl_LI), la gran final del campeonato de fútbol americano de la NFL. El partido enfrentó a los [New England Patriots](https://en.wikipedia.org/wiki/New_England_Patriots) (los favoritos, los de la costa este, con [Tom Brady](https://en.wikipedia.org/wiki/Tom_Brady) a la cabeza) contra los [Atlanta Falcons](https://en.wikipedia.org/wiki/Atlanta_Falcons) (los aspirantes, los del Sur, encabezados por [Matt Ryan](https://en.wikipedia.org/wiki/Matt_Ryan_(American_football))).\n",
    "\n",
    "![](http://bandageek.com/wp-content/uploads/2017/02/patriots-vs-falcons.jpg)\n",
    "\n",
    "Como cualquier final, el resultado *a priori* era impredecible y a un partido podía ganar cualquiera. Pero el del otro día fue un encuentro inolvidable porque comenzó con el equipo débil barriendo al favorito y con un Brady que no daba una. Al descanso, el marcador reflejaba un inesperado **3 - 28** y todo indicaba que los Falcons ganarían su primer anillo.\n",
    "\n",
    "![](https://pbs.twimg.com/media/C38X-Z-VUAA-UAV.jpg)\n",
    "\n",
    "Pero, en la segunda mitad, Brady resurgió... y su equipo comenzó a anotar una y otra vez... con los Falcons ko. Los Patriots consiguieron darle la vuelta al marcador y vencieron por **34 - 28** su quinta Superbowl. Brady fue elegido MVP del encuentro y aclamado como el mejor quaterback de la historia.\n",
    "\n",
    "![](http://images.complex.com/complex/images/c_limit,w_680/f_auto,fl_lossy,pg_1,q_auto/d36dh2j3micwoszunssh/tom-brady-new-england-patriots-vince-lombardi-trophy-super-bowl-li)\n",
    "\n",
    "Como os imaginaréis, tanto vaivén nos va a dar mucho juego a la hora de analizar un corpus de mensajes de Twitter. Durante la primera mitad, es previsible que encuentres mensajes a favor de Atlanta y burlas a New England y a sus jugadores, que no estaban muy finos. Pero al final del partido, con la remontada, las opiniones y las burlas cambiarán de sentido.\n",
    "\n",
    "Como tanto Tom Brady como su entrenador, Bill Belichick, habían declarado públicamente sus preferencias por Donald Trump durante las elecciones a la presidencia, es muy probable que encuentres mensajes al respecto y menciones a demócratas y republicanos.\n",
    "\n",
    "Por último, durante el *half time show* actuó Lady Gaga, que también levanta pasiones a su manera, así que es probable que haya menciones a otras *reinas* de la música y comparaciones con actuaciones pasadas.\n",
    "\n",
    "![](http://www.billboard.com/files/styles/article_main_image/public/media/12-lady-gaga-super-bowl-feb-2017-billboard-1548.jpg)\n",
    "\n",
    "\n",
    "## Los datos\n",
    "\n",
    "El fichero `2017-superbowl-tweets.tsv` ubicado en el directorio `data/` contiene una muestra, ordenada cronológicamente, de mensajes escritos en inglés publicados antes, durante y después del partido. Todos los mensajes contienen el hashtag `#superbowl`. Hazte una copia de este fichero en el directorio `notebooks` de tu espacio personal.\n",
    "\n",
    "El fichero es en realidad una tabla con cuatro columnas separadas por tabuladores, que contiene líneas (una por tweet) con el siguiente formato:\n",
    "\n",
    "    id_del_tweet fecha_y_hora_de_publicación autor_del_tweet texto_del_mensaje\n",
    "\n",
    "\n",
    "La siguiente celda te permite abrir el fichero para lectura y cargar los mensajes en la lista `tweets`. Modifica el código para que la ruta apunte a la copia local de tu fichero."
   ]
  },
  {
   "cell_type": "code",
   "execution_count": 1,
   "metadata": {},
   "outputs": [
    {
     "name": "stdout",
     "output_type": "stream",
     "text": [
      "total 4496\n",
      "-rw-r--r-- 1 victor victor 1668705 abr 12 08:42 2017-twitter-messages.tsv\n",
      "-rw-r--r-- 1 victor victor 1184237 abr 12 08:42 2018-twitter-messages.tsv.gz\n",
      "-rw-r--r-- 1 victor victor   61872 abr 12 08:42 alicia.txt.gz\n",
      "-rw-r--r-- 1 victor victor    3706 abr 12 08:42 es-ancora.map\n",
      "-rw-r--r-- 1 victor victor  923456 abr 12 08:42 fortunatayjacinta.txt.gz\n",
      "-rw-r--r-- 1 victor victor  748310 abr 12 08:42 sherlockholmes.txt.gz\n"
     ]
    }
   ],
   "source": [
    "!gunzip ../data/2017-twitter-messages.tsv.gz\n",
    "!ls -l ../data"
   ]
  },
  {
   "cell_type": "code",
   "execution_count": 2,
   "metadata": {},
   "outputs": [],
   "source": [
    "tweets = []\n",
    "RUTA = '../data/2017-twitter-messages.tsv'\n",
    "for line in open(RUTA).readlines():\n",
    "    tweets.append(line.split('\\t'))"
   ]
  },
  {
   "cell_type": "code",
   "execution_count": null,
   "metadata": {},
   "outputs": [],
   "source": [
    "# en Windows, asegúrate de que abres el fichero de texto forzando la codificación para que sea Unicode\n",
    "import codecs\n",
    "tweets = []\n",
    "RUTA = '../data/2017-twitter-messages.tsv'\n",
    "\n",
    "with codecs.open(RUTA, \"r\", \"utf-8\") as f:\n",
    "    for line in f.readlines():\n",
    "        tweets.append(line.split(\"\\t\"))"
   ]
  },
  {
   "cell_type": "markdown",
   "metadata": {},
   "source": [
    "Fíjate en la estructura de la lista: se trata de una lista de tuplas con cuatro elementos. Puedes comprobar si el fichero se ha cargado como debe en la siguiente celda:"
   ]
  },
  {
   "cell_type": "code",
   "execution_count": 3,
   "metadata": {},
   "outputs": [
    {
     "name": "stdout",
     "output_type": "stream",
     "text": [
      "id => 828498211253997568\n",
      "fecha => 2017-02-06 06:59:00\n",
      "autor => ceebrie\n",
      "texto => Honestly WHAT a SuperBowl performance ✨\n",
      "\n"
     ]
    }
   ],
   "source": [
    "ultimo_tweet = tweets[-1]\n",
    "print('id =>', ultimo_tweet[0])\n",
    "print('fecha =>', ultimo_tweet[1])\n",
    "print('autor =>', ultimo_tweet[2])\n",
    "print('texto =>', ultimo_tweet[3])"
   ]
  },
  {
   "cell_type": "markdown",
   "metadata": {},
   "source": [
    "## Al lío\n",
    "\n",
    "A partir de aquí puedes hacer distintos tipos de análisis. Añade tantas celdas como necesites para intentar, por ejemplo:\n",
    "\n",
    "- calcular distintas estadísticas de la colección: número de mensajes, longitud de los mensajes, presencia de hashtags y emojis, etc.\n",
    "- número de menciones a usuarios, frecuencia de aparición de menciones, frecuencia de autores\n",
    "- calcular estadísticas sobre usuarios: menciones, mensajes por usuario, etc.\n",
    "- calcular estadísticas sobre las hashtags\n",
    "- calcular estadísticas sobre las URLs presentes en los mensajes\n",
    "- calcular estadísticas sobre los emojis y emoticonos de los mensajes\n",
    "- extraer automáticamente las entidades nombradas que aparecen en los mensajes y su frecuencia\n",
    "- procesar los mensajes para extraer y analizar opiniones: calcular la subjetividad y la polaridad de los mensajes\n",
    "- extraer las entidades nombradas que levantan más pasiones, quiénes son los más queridos y los más odiados, atendiendo a la polaridad de los mensajes\n",
    "- comprobar si la polaridad de alguna entidad varía radicalmente a medida que avanza el partido\n",
    "- cualquier otra cosa que se te ocurra :-P\n",
    "\n"
   ]
  },
  {
   "cell_type": "code",
   "execution_count": null,
   "metadata": {},
   "outputs": [],
   "source": [
    "# escribe tu código aquí\n"
   ]
  }
 ],
 "metadata": {
  "kernelspec": {
   "display_name": "Python 3",
   "language": "python",
   "name": "python3"
  },
  "language_info": {
   "codemirror_mode": {
    "name": "ipython",
    "version": 3
   },
   "file_extension": ".py",
   "mimetype": "text/x-python",
   "name": "python",
   "nbconvert_exporter": "python",
   "pygments_lexer": "ipython3",
   "version": "3.7.3"
  }
 },
 "nbformat": 4,
 "nbformat_minor": 2
}
