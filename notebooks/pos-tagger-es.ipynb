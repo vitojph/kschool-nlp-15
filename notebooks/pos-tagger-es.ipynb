{
 "cells": [
  {
   "cell_type": "markdown",
   "metadata": {},
   "source": [
    "# PoS tagging en Español\n",
    "\n",
    "En este ejercicio vamos a jugar con uno de los corpus en español que está disponible desde NLTK: CESS_ESP, un *treebank* anotado a partir de una colección de noticias en español.\n",
    "\n",
    "Si no has utilizado antes el corpus, necesitarás instarlo:"
   ]
  },
  {
   "cell_type": "code",
   "execution_count": 1,
   "metadata": {},
   "outputs": [],
   "source": [
    "#import nltk\n",
    "#nltk.download('cess_esp')"
   ]
  },
  {
   "cell_type": "markdown",
   "metadata": {},
   "source": [
    "Este corpus está actualmente incluído en un recurso más amplio, el corpus [AnCora](http://clic.ub.edu/corpus/es) que desarrollan en la Universitat de Barcelona. Para más información, podéis leer el artículo de M. Taulé, M. A. Martí y M. Recasens \"[AnCora: Multilevel Annotated Corpora for Catalan and Spanish](http://www.lrec-conf.org/proceedings/lrec2008/pdf/35_paper.pdf)\". *Proceedings of 6th International Conference on Language Resources and Evaluation (LREC 2008)*. 2008. Marrakesh (Morocco).\n",
    "\n",
    "Antes de nada, ejecuta la siguiente celda para acceder al corpus y a otras herramientas que vamos a usar en este ejercicio."
   ]
  },
  {
   "cell_type": "code",
   "execution_count": 2,
   "metadata": {},
   "outputs": [
    {
     "name": "stdout",
     "output_type": "stream",
     "text": [
      "[('EDF', 'np00000'), ('tiene', 'vmip3s0'), ('previsto', 'aq0msp'), ('invertir', 'vmn0000'), ('194', 'Z'), ('millones', 'ncmp000'), ('de', 'sps00'), ('euros', 'Zm'), ('-Fpa-', 'Fpa'), ('186', 'Z'), ('millones', 'ncmp000'), ('de', 'sps00'), ('dólares', 'Zm'), ('-Fpt-', 'Fpt'), ('en', 'sps00'), ('la', 'da0fs0'), ('central', 'ncfs000'), ('de', 'sps00'), ('Río_Bravo', 'np00000'), (',', 'Fc'), ('con', 'sps00'), ('una', 'di0fs0'), ('potencia', 'ncfs000'), ('de', 'sps00'), ('495', 'Z'), ('megavatios', 'ncmp000'), (',', 'Fc'), ('y', 'cc'), ('134', 'Z'), ('millones', 'ncmp000'), ('de', 'sps00'), ('euros', 'Zm'), ('-Fpa-', 'Fpa'), ('28', 'Z'), ('millones', 'ncmp000'), ('de', 'sps00'), ('dólares', 'Zm'), ('-Fpt-', 'Fpt'), ('en', 'sps00'), ('Saltillo', 'np00000'), (',', 'Fc'), ('que', 'pr0cn000'), ('como', 'cs'), ('la', 'da0fs0'), ('primera', 'ao0fs0'), ('funcionará', 'vmif3s0'), ('con', 'sps00'), ('gas', 'ncms000'), ('natural', 'aq0cs0'), ('y', 'cc'), ('cuya', 'pr0fs000'), ('potencia', 'ncfs000'), ('prevista', 'aq0fsp'), ('es', 'vsip3s0'), ('de', 'sps00'), ('247', 'Z'), ('megavatios', 'ncmp000'), ('.', 'Fp')]\n"
     ]
    }
   ],
   "source": [
    "import nltk\n",
    "from nltk.corpus import cess_esp\n",
    "\n",
    "cess_esp = cess_esp.tagged_sents()\n",
    "\n",
    "print(cess_esp[5])"
   ]
  },
  {
   "cell_type": "markdown",
   "metadata": {},
   "source": [
    "Fíjate que las etiquetas que se usan en el treebank español son diferentes a las etiquetas que habíamos visto en inglés. Para empezar, el español es una lengua con una morfología más rica: si queremos reflejar el género y el número de los adjetivos, por ejemplo, no nos vale con etiquetar los adjetivos con una simple `JJ`.\n",
    "\n",
    "\n",
    "Echa un vistazo a las etiquetas morfológicas y trata de interpretar su significado. En estas primeras 50 palabras encontramos:\n",
    "\n",
    "- `da0ms0`: determinante artículo masculino singular\n",
    "- `ncms000`: nombre común masculino singular\n",
    "- `aq0cs0`: adjetivo calificativo de género común singular\n",
    "- `np00000`: nombre propio \n",
    "- `sps00`: preposición\n",
    "- `vmis3s0`: verbo principal indicativo pasado 3ª persona del singular\n",
    "\n",
    "\n",
    "Aquí tienes el [la explicación de las etiquetas](https://talp-upc.gitbooks.io/freeling-user-manual/content/tagsets.html) y [el catálogo completo de rasgos para el etiquetado en español](https://talp-upc.gitbooks.io/freeling-user-manual/content/tagsets/tagset-es.html) usadas en este corpus. A partir de lo que aprendas en el enlace anterior:\n",
    "\n",
    "- Imprime por pantalla solo las palabras etiquetadas como **formas verbales en 3ª persona del plural del pretérito perfecto simple de indicativo**.\n",
    "- Calcula qué porcentaje del total representan las palabras del corpus CEES_ESP etiquetadas como formas verbales en 3ª persona del plural del pretérito perfecto simple de indicativo."
   ]
  },
  {
   "cell_type": "code",
   "execution_count": 3,
   "metadata": {},
   "outputs": [
    {
     "name": "stdout",
     "output_type": "stream",
     "text": [
      "Solo el 0.33 de las 192685 palabras que tiene el corpus son verbos en pasado\n"
     ]
    }
   ],
   "source": [
    "# escribe tu código aquí\n",
    "# la etiqueta correcta es vmis3p0\n",
    "\n",
    "from nltk.corpus import cess_esp\n",
    "corpus = cess_esp.tagged_sents()\n",
    "\n",
    "total_palabras = 0\n",
    "verbos_pasado = []\n",
    "\n",
    "for oracion in corpus:\n",
    "    for palabra, etiqueta in oracion:\n",
    "        total_palabras +=1\n",
    "        if etiqueta == \"vmis3p0\":\n",
    "            verbos_pasado.append(palabra)\n",
    "            \n",
    "print(\"Solo el {0:.2f} de las {1} palabras que tiene el corpus son verbos en pasado\".format(\n",
    "    round( (len(verbos_pasado) * 100) / total_palabras, 2), total_palabras\n",
    "     )\n",
    ")"
   ]
  },
  {
   "cell_type": "markdown",
   "metadata": {},
   "source": [
    "Las etiquetas morfológicas que hemos visto son bastante complejas, ya que incorporan los rasgos de la flexión del español. Afortunadamente, NLTK permite cargar los corpus etiquetados con un [conjunto de etiquetas universal y simplificado](http://universaldependencies.org/u/pos/) (todos los detalles en el [paper](http://arxiv.org/abs/1104.2086)) utilizando la opcion `tagset='universal'`. Para ello, asegúrate de que has almacenado dentro de tu directorio de recursos de `nltk` el mapeo de etiquetas originales del corpus con su versión simplificada. Este fichero se llama `universal_tagset-ES.map` y lo tienes en la carpeta `data` del respositorio. Es recomendable renombrarlo, por ejemplo:"
   ]
  },
  {
   "cell_type": "code",
   "execution_count": 4,
   "metadata": {},
   "outputs": [],
   "source": [
    "!cp ../data/es-ancora.map ~/nltk_data/taggers/universal_tagset/"
   ]
  },
  {
   "cell_type": "markdown",
   "metadata": {},
   "source": [
    "Después, ejecuta la siguiente celda y fíjate cómo hemos cargado una lista de oraciones etiquetadas con esta nueva versión de las etiquetas."
   ]
  },
  {
   "cell_type": "code",
   "execution_count": 5,
   "metadata": {
    "scrolled": true
   },
   "outputs": [
    {
     "name": "stdout",
     "output_type": "stream",
     "text": [
      "[('El', 'DET'), ('grupo', 'NOUN'), ('estatal', 'ADJ'), ('Electricité_de_France', 'NOUN'), ('-Fpa-', '.'), ('EDF', 'NOUN'), ('-Fpt-', '.'), ('anunció', 'VERB'), ('hoy', 'ADV'), (',', '.'), ('jueves', 'X'), (',', '.'), ('la', 'DET'), ('compra', 'NOUN'), ('del', 'ADP'), ('51_por_ciento', 'NUM'), ('de', 'ADP'), ('la', 'DET'), ('empresa', 'NOUN'), ('mexicana', 'ADJ'), ('Electricidad_Águila_de_Altamira', 'NOUN'), ('-Fpa-', '.'), ('EAA', 'NOUN'), ('-Fpt-', '.'), (',', '.'), ('creada', 'ADJ'), ('por', 'ADP'), ('el', 'DET'), ('japonés', 'ADJ'), ('Mitsubishi_Corporation', 'NOUN'), ('para', 'ADP'), ('poner_en_marcha', 'VERB'), ('una', 'DET'), ('central', 'NOUN'), ('de', 'ADP'), ('gas', 'NOUN'), ('de', 'ADP'), ('495', 'X'), ('megavatios', 'NOUN'), ('.', '.')]\n"
     ]
    }
   ],
   "source": [
    "from nltk.corpus import cess_esp\n",
    "\n",
    "cess_esp._tagset = \"es-ancora\"\n",
    "oraciones = cess_esp.tagged_sents(tagset=\"universal\")\n",
    "print(oraciones[0])"
   ]
  },
  {
   "cell_type": "markdown",
   "metadata": {},
   "source": [
    "Estas etiquetas son más sencillas, ¿verdad? Básicamente tenemos `DET` para determinante, `NOUN` para nombre, `VERB` para verbo, `ADJ` para adjetivo, `ADP` para preposición, etc.\n",
    "\n",
    "\n",
    "Vamos a utilizar este corpus para entrenar varios etiquetadores basados en ngramas, tal y como hicimos en clase y se explica en la presentación `nltk-pos`. \n",
    "\n",
    "Construye de manera incremental cuatro etiquetadores.\n",
    "\n",
    "1. un etiquetador que por defecto que asuma que una palabra desconocida es un nombre común en masculino singular y asigne la etiqueta correspondiente a todas las palabras.\n",
    "2. un etiquetador basado en unigramas que aprenda a partir de la lista `oraciones` y utilice en etiquetador anterior como respaldo.\n",
    "3. un etiquetador basado en bigramas que aprenda a partir de la lista `oraciones` y utilice en etiquetador anterior como respaldo.\n",
    "4. un etiquetador basado en trigramas que aprenda a partir de la lista `oraciones` y utilice en etiquetador anterior como respaldo."
   ]
  },
  {
   "cell_type": "code",
   "execution_count": 6,
   "metadata": {},
   "outputs": [
    {
     "name": "stdout",
     "output_type": "stream",
     "text": [
      "0.9338718362950996\n"
     ]
    }
   ],
   "source": [
    "# escribe tu código aquí\n",
    "import nltk\n",
    "import random\n",
    "\n",
    "defaultTagger = nltk.DefaultTagger(\"NOUN\")\n",
    "\n",
    "corpus = list(oraciones)\n",
    "random.shuffle(corpus)\n",
    "\n",
    "# separamos training y test \n",
    "size = int(len(corpus) * 0.9)\n",
    "corpusEntrenamiento = corpus[:size]\n",
    "corpusTest = corpus[size:]\n",
    "\n",
    "# creamos los etiquetadores\n",
    "unigramTagger = nltk.UnigramTagger(corpusEntrenamiento, backoff=defaultTagger)\n",
    "bigramTagger = nltk.BigramTagger(corpusEntrenamiento, backoff=unigramTagger)\n",
    "trigramTagger = nltk.TrigramTagger(corpusEntrenamiento, backoff=bigramTagger)\n",
    "\n",
    "print(trigramTagger.evaluate(corpusTest))"
   ]
  },
  {
   "cell_type": "code",
   "execution_count": 7,
   "metadata": {},
   "outputs": [
    {
     "name": "stdout",
     "output_type": "stream",
     "text": [
      "[('Este', 'DET'), ('banco', 'NOUN'), ('está', 'VERB'), ('ocupado', 'VERB'), ('por', 'ADP'), ('un', 'DET'), ('padre', 'NOUN'), ('y', 'CONJ'), ('por', 'ADP'), ('un', 'DET'), ('hijo.', 'NOUN'), ('El', 'DET'), ('padre', 'NOUN'), ('se', 'PRON'), ('llama', 'VERB'), ('Juan', 'NOUN'), ('y', 'CONJ'), ('el', 'DET'), ('hijo', 'NOUN'), ('ya', 'ADV'), ('te', 'PRON'), ('lo', 'PRON'), ('he', 'VERB'), ('dicho', 'VERB')]\n",
      "[('El', 'DET'), ('presidente', 'NOUN'), ('del', 'ADP'), ('gobierno', 'NOUN'), ('por', 'ADP'), ('fin', 'NOUN'), ('ha', 'VERB'), ('dado', 'VERB'), ('la', 'DET'), ('cara', 'NOUN'), ('para', 'ADP'), ('anunciar', 'VERB'), ('aumentos', 'NOUN'), ('de', 'ADP'), ('presupuesto', 'NOUN'), ('en', 'ADP'), ('Educación', 'NOUN'), ('y', 'CONJ'), ('Sanidad', 'NOUN'), ('a', 'ADP'), ('costa', 'NOUN'), ('de', 'ADP'), ('dejar', 'VERB'), ('de', 'ADP'), ('subvencionar', 'NOUN'), ('las', 'DET'), ('empresas', 'NOUN'), ('de', 'ADP'), ('los', 'DET'), ('amigotes.', 'NOUN')]\n",
      "[('El', 'DET'), ('cacique', 'NOUN'), ('corrupto', 'ADJ'), ('y', 'CONJ'), ('la', 'DET'), ('tonadillera', 'NOUN'), ('se', 'PRON'), ('comerán', 'VERB'), ('el', 'DET'), ('turrón', 'NOUN'), ('en', 'ADP'), ('prisión.', 'NOUN')]\n"
     ]
    }
   ],
   "source": [
    "# prueba tu etiquetador basado en trigramas con las siguientes oraciones que, \n",
    "# con toda seguridad, no aparecen en el corpus\n",
    "print(trigramTagger.tag(\"Este banco está ocupado por un padre y por un hijo. El padre se llama Juan y el hijo ya te lo he dicho\".split()))\n",
    "print(trigramTagger.tag(\"\"\"El presidente del gobierno por fin ha dado la cara para anunciar aumentos de presupuesto en Educación y Sanidad a costa de dejar de subvencionar las empresas de los amigotes.\"\"\".split()))\n",
    "print(trigramTagger.tag(\"El cacique corrupto y la tonadillera se comerán el turrón en prisión.\".split()))"
   ]
  }
 ],
 "metadata": {
  "kernelspec": {
   "display_name": "Python 3",
   "language": "python",
   "name": "python3"
  },
  "language_info": {
   "codemirror_mode": {
    "name": "ipython",
    "version": 3
   },
   "file_extension": ".py",
   "mimetype": "text/x-python",
   "name": "python",
   "nbconvert_exporter": "python",
   "pygments_lexer": "ipython3",
   "version": "3.7.3"
  }
 },
 "nbformat": 4,
 "nbformat_minor": 2
}
